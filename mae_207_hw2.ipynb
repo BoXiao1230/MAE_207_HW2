{
 "cells": [
  {
   "cell_type": "markdown",
   "metadata": {},
   "source": [
    "# Assignment 2: Inverse kinematics of our leg\n",
    "\n",
    "Use this noteboook to document interacting with the robot class. The primary goal for this assignment is a video recording and plot rendering of your robot leg commanded to move along an *interesting* path (see the bat sign I chose in the readme page). \n",
    "\n",
    "__Deliverables__\n",
    "1. Your leg.py file in the robot python module we are creating. The template provided has blank functions which need to be completed.\n",
    "2. Two videos, a video of your robot tracing out your commanded trajectory (uploaded to youtube), and a gif of robot commanded trajectory (like on the readme page).\n",
    "3. This notebook which you will use to send the move commands for the trajectory.\n",
    "\n",
    "\n",
    "Team #: 12\n",
    "\n",
    "Names: Bo Xiao Kexiong Wu"
   ]
  },
  {
   "cell_type": "markdown",
   "metadata": {},
   "source": [
    "# Getting started"
   ]
  },
  {
   "cell_type": "code",
   "execution_count": 1,
   "metadata": {},
   "outputs": [],
   "source": [
    "# Import the robot class we are developing\n",
    "import robot"
   ]
  },
  {
   "cell_type": "code",
   "execution_count": 2,
   "metadata": {},
   "outputs": [
    {
     "name": "stdout",
     "output_type": "stream",
     "text": [
      "Connected!\n",
      "here2\n"
     ]
    }
   ],
   "source": [
    "# Make a new leg variable which is a robot.Leg class\n",
    "\n",
    "leg = robot.Leg()"
   ]
  },
  {
   "cell_type": "code",
   "execution_count": 3,
   "metadata": {},
   "outputs": [
    {
     "name": "stdout",
     "output_type": "stream",
     "text": [
      "joint0: 0.023193 \t joint1: -0.002120\n"
     ]
    }
   ],
   "source": [
    "leg.get_joint_pos()\n",
    "\n",
    "print('joint0: %f \\t joint1: %f' % (leg.joint_0_pos, leg.joint_1_pos))"
   ]
  },
  {
   "cell_type": "markdown",
   "metadata": {},
   "source": [
    "# Your code below!"
   ]
  },
  {
   "cell_type": "code",
   "execution_count": 29,
   "metadata": {},
   "outputs": [],
   "source": [
    "import odrive.core\n",
    "import time\n",
    "import math\n",
    "\n",
    "import numpy as np\n",
    "import matplotlib.pyplot as plt\n",
    "\n",
    "# For symbolic processing\n",
    "import sympy\n",
    "from sympy import symbols\n",
    "from sympy import sin, cos, asin, acos, pi\n",
    "from sympy.utilities.lambdify import lambdify\n",
    "from sympy import Matrix"
   ]
  },
  {
   "cell_type": "code",
   "execution_count": 30,
   "metadata": {},
   "outputs": [],
   "source": [
    "import pandas as pd\n",
    "df = pd.read_csv('wkx.csv')\n",
    "xx, yy = df['xx'], df['yy']\n",
    "tt = len(xx)\n"
   ]
  },
  {
   "cell_type": "code",
   "execution_count": 31,
   "metadata": {},
   "outputs": [
    {
     "name": "stdout",
     "output_type": "stream",
     "text": [
      "done\n",
      "done\n",
      "done\n",
      "done\n",
      "done\n",
      "done\n",
      "done\n",
      "done\n",
      "done\n",
      "done\n",
      "done\n",
      "done\n",
      "done\n",
      "done\n",
      "done\n",
      "done\n",
      "done\n",
      "done\n"
     ]
    }
   ],
   "source": [
    "(sim_theta0,sim_theta1, sim_alpha0, sim_alpha1) = leg.move_trajectory(tt, xx, yy)"
   ]
  },
  {
   "cell_type": "code",
   "execution_count": 17,
   "metadata": {},
   "outputs": [],
   "source": [
    "# Define a draw function\n",
    "import matplotlib.pyplot as plt\n",
    "from sympy import sin, cos\n",
    "import numpy as np\n",
    "\n",
    "\n",
    "def sim_draw_leg(l0, l1, l2, theta1, theta2, alpha1, alpha2, ax=False):\n",
    "    \"\"\"\n",
    "    This function takes in the four angles of the leg and draws\n",
    "    the configuration\n",
    "    \"\"\"\n",
    "\n",
    "    link1, link2, width = l1, l2, l0\n",
    "    cor_range = l1 + l2\n",
    "    \n",
    "    if ax == False:\n",
    "        ax = plt.gca()\n",
    "        ax.cla()\n",
    "\n",
    "    ax.plot(-width / 2, 0, 'ok')\n",
    "    ax.plot(width / 2, 0, 'ok')\n",
    "\n",
    "    ax.plot([-width / 2, 0], [0, 0], 'k')\n",
    "    ax.plot([width / 2, 0], [0, 0], 'k')\n",
    "\n",
    "    ax.plot(-width / 2 + np.array([0, link1 * cos(theta1)]), [0, link1 * sin(theta1)], 'k')\n",
    "    ax.plot(width / 2 + np.array([0, link1 * cos(theta2)]), [0, link1 * sin(theta2)], 'k')\n",
    "\n",
    "    ax.plot(-width / 2 + link1 * cos(theta1) + np.array([0, link2 * cos(alpha1)]), \\\n",
    "            link1 * sin(theta1) + np.array([0, link2 * sin(alpha1)]), 'k');\n",
    "    ax.plot(width / 2 + link1 * cos(theta2) + np.array([0, link2 * cos(alpha2)]), \\\n",
    "            np.array(link1 * sin(theta2) + np.array([0, link2 * sin(alpha2)])), 'k');\n",
    "            \n",
    "    curr_x = float(width / 2 + link1 * cos(theta2) + link2 * cos(alpha2))\n",
    "    curr_y = float(np.array(link1 * sin(theta2) + link2 * sin(alpha2)))\n",
    "\n",
    "    ax.plot(curr_x, curr_y, 'ro');\n",
    "\n",
    "    ax.axis([-cor_range, cor_range, -l1, cor_range])\n",
    "    ax.invert_yaxis()\n",
    "    "
   ]
  },
  {
   "cell_type": "code",
   "execution_count": null,
   "metadata": {},
   "outputs": [],
   "source": [
    "# Draw legs and trajectory\n",
    "%matplotlib qt5\n",
    "for i in range(tt):\n",
    "    sim_draw_leg(7, 7, 14, sim_theta1[i], sim_theta0[i], sim_alpha1[i], sim_alpha0[i])\n",
    "    plt.plot(xx[0:i+1], yy[0:i+1])\n",
    "    plt.pause(.15)"
   ]
  },
  {
   "cell_type": "markdown",
   "metadata": {},
   "source": [
    "![Simulation of Trajectory gif](BatManGIF.gif)"
   ]
  },
  {
   "cell_type": "code",
   "execution_count": 23,
   "metadata": {},
   "outputs": [],
   "source": [
    "# thetas acquired from the simulation\n",
    "import numpy as np\n",
    "\n",
    "thetas = np.loadtxt('thetas')\n",
    "\n",
    "theta0 = thetas[0]\n",
    "theta1 = thetas[1]\n",
    "\n",
    "# set home position\n",
    "leg.set_home()"
   ]
  },
  {
   "cell_type": "code",
   "execution_count": 32,
   "metadata": {},
   "outputs": [],
   "source": [
    "#trace out trajectory on the actual arm\n",
    "import time\n",
    "for i in range(len(theta0)):\n",
    "    leg.set_joint_pos(theta0[i], theta1[i])\n",
    "    time.sleep(.2)"
   ]
  },
  {
   "cell_type": "code",
   "execution_count": 25,
   "metadata": {},
   "outputs": [
    {
     "name": "stdout",
     "output_type": "stream",
     "text": [
      "[[1.14078779 0.94463943 1.2683753  1.27393254 1.15569368 1.02398847\n",
      "  0.91749265 0.63830015 0.68933932 0.4903943  0.53566049 0.41146084\n",
      "  0.71826213 0.83432711 1.05902188 0.94451085 0.97702555 1.14082382]\n",
      " [2.08005115 2.30242773 2.41901705 2.72898154 2.60684283 2.65270603\n",
      "  2.45433007 2.50663026 2.22924061 2.12340304 1.99222663 1.86974481\n",
      "  1.87028475 2.19715585 2.00007355 2.15868448 2.19748809 2.08169274]]\n"
     ]
    }
   ],
   "source": [
    "print(thetas)"
   ]
  },
  {
   "cell_type": "code",
   "execution_count": 34,
   "metadata": {},
   "outputs": [
    {
     "data": {
      "image/jpeg": "[encoded data removed]",
      "text/html": [
       "\n",
       "        <iframe\n",
       "            width=\"400\"\n",
       "            height=\"300\"\n",
       "            src=\"https://www.youtube.com/embed/GqgaZ-NOtgU\"\n",
       "            frameborder=\"0\"\n",
       "            allowfullscreen\n",
       "        ></iframe>\n",
       "        "
      ],
      "text/plain": [
       "<IPython.lib.display.YouTubeVideo at 0x26e8c3af1d0>"
      ]
     },
     "execution_count": 34,
     "metadata": {},
     "output_type": "execute_result"
    }
   ],
   "source": [
    "#youtube video import\n",
    "from IPython.lib.display import YouTubeVideo\n",
    "\n",
    "YouTubeVideo('GqgaZ-NOtgU')"
   ]
  },
  {
   "cell_type": "code",
   "execution_count": null,
   "metadata": {},
   "outputs": [],
   "source": [
    "\n"
   ]
  },
  {
   "cell_type": "code",
   "execution_count": null,
   "metadata": {},
   "outputs": [],
   "source": []
  },
  {
   "cell_type": "code",
   "execution_count": null,
   "metadata": {},
   "outputs": [],
   "source": []
  },
  {
   "cell_type": "code",
   "execution_count": null,
   "metadata": {},
   "outputs": [],
   "source": []
  },
  {
   "cell_type": "code",
   "execution_count": null,
   "metadata": {},
   "outputs": [],
   "source": []
  },
  {
   "cell_type": "code",
   "execution_count": null,
   "metadata": {},
   "outputs": [],
   "source": []
  }
 ],
 "metadata": {
  "kernelspec": {
   "display_name": "Python 3",
   "language": "python",
   "name": "python3"
  },
  "language_info": {
   "codemirror_mode": {
    "name": "ipython",
    "version": 3
   },
   "file_extension": ".py",
   "mimetype": "text/x-python",
   "name": "python",
   "nbconvert_exporter": "python",
   "pygments_lexer": "ipython3",
   "version": "3.6.4"
  }
 },
 "nbformat": 4,
 "nbformat_minor": 2
}
